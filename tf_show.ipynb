{
 "cells": [
  {
   "cell_type": "code",
   "execution_count": null,
   "id": "ecaf4ca4",
   "metadata": {},
   "outputs": [],
   "source": [
    "%matplotlib widget\n",
    "import numpy as np\n",
    "import matplotlib.pyplot as plt\n",
    "import ipywidgets as w\n",
    "from pytransform3d.plot_utils import make_3d_axis\n",
    "from pytransform3d.transformations import plot_transform, transform_from\n",
    "from pytransform3d.rotations import matrix_from_euler\n",
    "\n",
    "# --- Figure & Axes ---\n",
    "ax = make_3d_axis(ax_s=1.0)\n",
    "ax.set_title(\"Interactive Pose: xyz + roll/pitch/yaw\")\n",
    "ax.set_xlim(-1,1); ax.set_ylim(-1,1); ax.set_zlim(-1,1)\n",
    "ax.set_box_aspect([1,1,1])"
   ]
  },
  {
   "cell_type": "code",
   "execution_count": null,
   "id": "030a2f6f",
   "metadata": {},
   "outputs": [],
   "source": [
    "# --- Widgets ---\n",
    "sx=w.FloatSlider(min=-1,max=1,step=0.01,description='x',value=0.0)\n",
    "sy=w.FloatSlider(min=-1,max=1,step=0.01,description='y',value=0.0)\n",
    "sz=w.FloatSlider(min=-1,max=1,step=0.01,description='z',value=0.0)\n",
    "sroll=w.FloatSlider(min=-180,max=180,step=1,description='roll°',value=0.0)\n",
    "spitch=w.FloatSlider(min=-180,max=180,step=1,description='pitch°',value=0.0)\n",
    "syaw=w.FloatSlider(min=-180,max=180,step=1,description='yaw°',value=0.0)\n",
    "L=w.FloatSlider(min=0.05,max=0.5,step=0.01,value=0.2,description='axis_len')\n",
    "show_world=w.Checkbox(value=True,description='显示世界坐标轴')\n",
    "reset_btn=w.Button(description='重置')\n",
    "\n",
    "def draw_pose(*_):\n",
    "    ax.cla()\n",
    "    ax.set_title(\"Interactive Pose: xyz + roll/pitch/yaw\")\n",
    "    ax.set_xlim(-1,1); ax.set_ylim(-1,1); ax.set_zlim(-1,1)\n",
    "    ax.set_box_aspect([1,1,1])\n",
    "\n",
    "    if show_world.value:\n",
    "        plot_transform(ax, A2B=np.eye(4), s=0.25)\n",
    "\n",
    "    r,p,y = np.deg2rad([sroll.value, spitch.value, syaw.value])\n",
    "    R = matrix_from_euler([r,p,y],0,1,2,True)\n",
    "    t = np.array([sx.value, sy.value, sz.value])\n",
    "    T = transform_from(R, t)\n",
    "    plot_transform(ax, A2B=T, s=L.value)\n",
    "    ax.figure.canvas.draw_idle()\n",
    "\n",
    "def on_reset(_):\n",
    "    sx.value = sy.value = sz.value = 0.0\n",
    "    sroll.value = spitch.value = syaw.value = 0.0\n",
    "    L.value = 0.2\n",
    "    show_world.value = True"
   ]
  },
  {
   "cell_type": "code",
   "execution_count": null,
   "id": "c7d69841",
   "metadata": {},
   "outputs": [],
   "source": [
    "for wid in (sx,sy,sz,sroll,spitch,syaw,L,show_world):\n",
    "    wid.observe(draw_pose, names='value')\n",
    "reset_btn.on_click(on_reset)\n",
    "\n",
    "controls = w.VBox([\n",
    "    w.HBox([sx, sy, sz]),\n",
    "    w.HBox([sroll, spitch, syaw]),\n",
    "    w.HBox([L, show_world, reset_btn]),\n",
    "])\n",
    "\n",
    "# 关键：把“图像画布”当成一个 widget 和控件一起显示\n",
    "app = w.VBox([controls, ax.figure.canvas])   # 想左右排就换成 w.HBox([...])\n",
    "display(app)\n",
    "\n",
    "draw_pose()"
   ]
  }
 ],
 "metadata": {
  "kernelspec": {
   "display_name": "base",
   "language": "python",
   "name": "python3"
  },
  "language_info": {
   "codemirror_mode": {
    "name": "ipython",
    "version": 3
   },
   "file_extension": ".py",
   "mimetype": "text/x-python",
   "name": "python",
   "nbconvert_exporter": "python",
   "pygments_lexer": "ipython3",
   "version": "3.11.11"
  }
 },
 "nbformat": 4,
 "nbformat_minor": 5
}
